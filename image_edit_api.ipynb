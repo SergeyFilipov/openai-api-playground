{
 "cells": [
  {
   "cell_type": "markdown",
   "id": "46bb930b-6eb6-4d60-8702-e61a13a2a5b1",
   "metadata": {
    "papermill": {
     "duration": 0.002797,
     "end_time": "2023-10-31T18:02:51.254200",
     "exception": false,
     "start_time": "2023-10-31T18:02:51.251403",
     "status": "completed"
    },
    "tags": []
   },
   "source": [
    "# Editing Images with the API"
   ]
  },
  {
   "cell_type": "code",
   "execution_count": 5,
   "id": "75191737-1e80-49b1-897a-20c5e2b1751b",
   "metadata": {
    "papermill": {
     "duration": 0.068223,
     "end_time": "2023-10-31T18:02:51.325110",
     "exception": false,
     "start_time": "2023-10-31T18:02:51.256887",
     "status": "completed"
    },
    "tags": []
   },
   "outputs": [],
   "source": [
    "import json\n",
    "import os\n",
    "import requests"
   ]
  },
  {
   "cell_type": "code",
   "execution_count": 7,
   "id": "df480ac1-cf13-4112-b637-82486a16dbea",
   "metadata": {
    "papermill": {
     "duration": 0.010408,
     "end_time": "2023-10-31T18:02:51.337030",
     "exception": false,
     "start_time": "2023-10-31T18:02:51.326622",
     "status": "completed"
    },
    "tags": []
   },
   "outputs": [
    {
     "ename": "OSError",
     "evalue": "[Errno 22] Invalid argument: '\"C:/Users/Sergey Filipov/Desktop/apikey.txt\"'",
     "output_type": "error",
     "traceback": [
      "\u001b[1;31m---------------------------------------------------------------------------\u001b[0m",
      "\u001b[1;31mOSError\u001b[0m                                   Traceback (most recent call last)",
      "Cell \u001b[1;32mIn[7], line 4\u001b[0m\n\u001b[0;32m      1\u001b[0m \u001b[38;5;66;03m# A recommended way to store the key is in an environment variable. For this demo, I am storing in a file.\u001b[39;00m\n\u001b[0;32m      2\u001b[0m key_location \u001b[38;5;241m=\u001b[39m \u001b[38;5;124m'\u001b[39m\u001b[38;5;124m\"\u001b[39m\u001b[38;5;124mC:/Users/Sergey Filipov/Desktop/apikey.txt\u001b[39m\u001b[38;5;124m\"\u001b[39m\u001b[38;5;124m'\u001b[39m\n\u001b[1;32m----> 4\u001b[0m \u001b[38;5;28;01mwith\u001b[39;00m \u001b[38;5;28mopen\u001b[39m(key_location, \u001b[38;5;124m'\u001b[39m\u001b[38;5;124mr\u001b[39m\u001b[38;5;124m'\u001b[39m) \u001b[38;5;28;01mas\u001b[39;00m file:\n\u001b[0;32m      5\u001b[0m     key \u001b[38;5;241m=\u001b[39m file\u001b[38;5;241m.\u001b[39mreadline()\u001b[38;5;241m.\u001b[39mstrip()\n",
      "File \u001b[1;32m~\\anaconda3\\Lib\\site-packages\\IPython\\core\\interactiveshell.py:324\u001b[0m, in \u001b[0;36m_modified_open\u001b[1;34m(file, *args, **kwargs)\u001b[0m\n\u001b[0;32m    317\u001b[0m \u001b[38;5;28;01mif\u001b[39;00m file \u001b[38;5;129;01min\u001b[39;00m {\u001b[38;5;241m0\u001b[39m, \u001b[38;5;241m1\u001b[39m, \u001b[38;5;241m2\u001b[39m}:\n\u001b[0;32m    318\u001b[0m     \u001b[38;5;28;01mraise\u001b[39;00m \u001b[38;5;167;01mValueError\u001b[39;00m(\n\u001b[0;32m    319\u001b[0m         \u001b[38;5;124mf\u001b[39m\u001b[38;5;124m\"\u001b[39m\u001b[38;5;124mIPython won\u001b[39m\u001b[38;5;124m'\u001b[39m\u001b[38;5;124mt let you open fd=\u001b[39m\u001b[38;5;132;01m{\u001b[39;00mfile\u001b[38;5;132;01m}\u001b[39;00m\u001b[38;5;124m by default \u001b[39m\u001b[38;5;124m\"\u001b[39m\n\u001b[0;32m    320\u001b[0m         \u001b[38;5;124m\"\u001b[39m\u001b[38;5;124mas it is likely to crash IPython. If you know what you are doing, \u001b[39m\u001b[38;5;124m\"\u001b[39m\n\u001b[0;32m    321\u001b[0m         \u001b[38;5;124m\"\u001b[39m\u001b[38;5;124myou can use builtins\u001b[39m\u001b[38;5;124m'\u001b[39m\u001b[38;5;124m open.\u001b[39m\u001b[38;5;124m\"\u001b[39m\n\u001b[0;32m    322\u001b[0m     )\n\u001b[1;32m--> 324\u001b[0m \u001b[38;5;28;01mreturn\u001b[39;00m io_open(file, \u001b[38;5;241m*\u001b[39margs, \u001b[38;5;241m*\u001b[39m\u001b[38;5;241m*\u001b[39mkwargs)\n",
      "\u001b[1;31mOSError\u001b[0m: [Errno 22] Invalid argument: '\"C:/Users/Sergey Filipov/Desktop/apikey.txt\"'"
     ]
    }
   ],
   "source": [
    "# A recommended way to store the key is in an environment variable. For this demo, I am storing in a file.\n",
    "key_location = '\"C:/Users/Sergey Filipov/Desktop/apikey.txt\"'\n",
    "\n",
    "with open(key_location, 'r') as file:\n",
    "    key = file.readline().strip()"
   ]
  },
  {
   "cell_type": "code",
   "execution_count": 4,
   "id": "08b024ee-40b3-4be6-9438-0c66a97f1478",
   "metadata": {
    "papermill": {
     "duration": 0.36904,
     "end_time": "2023-10-31T18:02:51.707638",
     "exception": true,
     "start_time": "2023-10-31T18:02:51.338598",
     "status": "failed"
    },
    "tags": []
   },
   "outputs": [
    {
     "name": "stdout",
     "output_type": "stream",
     "text": [
      "{\n",
      "  \"created\": 1736000188,\n",
      "  \"data\": [\n",
      "    {\n",
      "      \"url\": \"https://oaidalleapiprodscus.blob.core.windows.net/private/org-9MHm2nTTkVn60t0OoGZUTatw/user-MGRdsREzaSmARwZEq2MCIJec/img-wiED48k9tWuJr5LQXTLx4bEJ.png?st=2025-01-04T13%3A16%3A28Z&se=2025-01-04T15%3A16%3A28Z&sp=r&sv=2024-08-04&sr=b&rscd=inline&rsct=image/png&skoid=d505667d-d6c1-4a0a-bac7-5c84a87759f8&sktid=a48cca56-e6da-484e-a814-9c849652bcb3&skt=2025-01-04T00%3A19%3A15Z&ske=2025-01-05T00%3A19%3A15Z&sks=b&skv=2024-08-04&sig=PKdEHHUM0Vp9EvJKuER/MKD0KZcX4z9rIViUFwgoFek%3D\"\n",
      "    }\n",
      "  ]\n",
      "}\n"
     ]
    }
   ],
   "source": [
    "URL = \"https://api.openai.com/v1/images/edits\"\n",
    "\n",
    "headers = {\n",
    "    'Authorization': f'Bearer {key}'\n",
    "}\n",
    "files = {\n",
    "    \"image\": open(\"C:/Users/DGavrilova/OneDrive - CEE Telco Group/Documents/Uni/GenAI/generative-ai-developing-applications-python-openai/01/demos/m4/06-image-edit/otter1.png\", \"rb\"),\n",
    "    \"mask\": open(\"C:/Users/DGavrilova/OneDrive - CEE Telco Group/Documents/Uni/GenAI/generative-ai-developing-applications-python-openai/01/demos/m4/06-image-edit/mask1.png\", \"rb\")\n",
    "}\n",
    "data = {\n",
    "    \"prompt\": \"A cute baby sea otter wearing a beret\",\n",
    "    \"n\": 1,\n",
    "    \"size\": \"1024x1024\"\n",
    "}\n",
    "\n",
    "response = requests.post(URL, headers=headers, files=files, data=data, timeout=20)\n",
    "\n",
    "if response.status_code == 200:\n",
    "    result = response.json()\n",
    "    print(json.dumps(result, indent=2))\n",
    "else:\n",
    "    print('Request failed with status code:', response.status_code)\n"
   ]
  },
  {
   "cell_type": "code",
   "execution_count": null,
   "id": "6ac9615a-6098-4994-a3be-3325acb3bebf",
   "metadata": {},
   "outputs": [],
   "source": []
  }
 ],
 "metadata": {
  "kernelspec": {
   "display_name": "Python 3 (ipykernel)",
   "language": "python",
   "name": "python3"
  },
  "language_info": {
   "codemirror_mode": {
    "name": "ipython",
    "version": 3
   },
   "file_extension": ".py",
   "mimetype": "text/x-python",
   "name": "python",
   "nbconvert_exporter": "python",
   "pygments_lexer": "ipython3",
   "version": "3.12.7"
  },
  "papermill": {
   "default_parameters": {},
   "duration": 1.607638,
   "end_time": "2023-10-31T18:02:51.932975",
   "environment_variables": {},
   "exception": true,
   "input_path": "m4/06-image-edit/image_edit_api.ipynb",
   "output_path": "m4/06-image-edit/image_edit_api.ipynb",
   "parameters": {},
   "start_time": "2023-10-31T18:02:50.325337",
   "version": "2.4.0"
  }
 },
 "nbformat": 4,
 "nbformat_minor": 5
}
