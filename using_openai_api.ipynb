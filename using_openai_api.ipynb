{
 "cells": [
  {
   "cell_type": "markdown",
   "id": "80b483ea-3d7e-4dd7-9f52-a9b98eb757ee",
   "metadata": {
    "papermill": {
     "duration": 0.004047,
     "end_time": "2023-10-31T17:51:46.360448",
     "exception": false,
     "start_time": "2023-10-31T17:51:46.356401",
     "status": "completed"
    },
    "tags": []
   },
   "source": [
    "# Using the OpenAI API  \n",
    "https://platform.openai.com/docs/api-reference/making-requests"
   ]
  },
  {
   "cell_type": "code",
   "execution_count": 10,
   "id": "1ccaba36-0845-4b0d-9a5f-0484e95367a6",
   "metadata": {
    "papermill": {
     "duration": 0.067335,
     "end_time": "2023-10-31T17:51:46.431276",
     "exception": false,
     "start_time": "2023-10-31T17:51:46.363941",
     "status": "completed"
    },
    "tags": []
   },
   "outputs": [],
   "source": [
    "import os\n",
    "import requests\n",
    "import json"
   ]
  },
  {
   "cell_type": "code",
   "execution_count": 11,
   "id": "61013190-b181-4c83-a150-78b3e7348d7b",
   "metadata": {
    "papermill": {
     "duration": 0.010479,
     "end_time": "2023-10-31T17:51:46.444063",
     "exception": false,
     "start_time": "2023-10-31T17:51:46.433584",
     "status": "completed"
    },
    "tags": []
   },
   "outputs": [],
   "source": [
    "# A recommended way to store the key is in an environment variable. For this demo, I am storing in a file.\n",
    "key_location = '/Users/DGavrilova/OneDrive - CEE Telco Group/Documents/Uni/GenAI/apikey.txt'\n",
    "\n",
    "with open(key_location, 'r') as file:\n",
    "    key = file.readline().strip()"
   ]
  },
  {
   "cell_type": "code",
   "execution_count": 12,
   "id": "3bc47680-aa56-4a00-9dd0-564d05a7350b",
   "metadata": {
    "papermill": {
     "duration": 0.008943,
     "end_time": "2023-10-31T17:51:46.455264",
     "exception": false,
     "start_time": "2023-10-31T17:51:46.446321",
     "status": "completed"
    },
    "tags": []
   },
   "outputs": [],
   "source": [
    "prompt = \"To succeed in life\""
   ]
  },
  {
   "cell_type": "code",
   "execution_count": 13,
   "id": "83f90cf1-93a6-4390-a472-3b9db2650357",
   "metadata": {
    "papermill": {
     "duration": 0.009374,
     "end_time": "2023-10-31T17:51:46.467062",
     "exception": false,
     "start_time": "2023-10-31T17:51:46.457688",
     "status": "completed"
    },
    "tags": []
   },
   "outputs": [],
   "source": [
    "# Set the endpoint for GPT-3.5 chat completions\n",
    "endpoint = \"https://api.openai.com/v1/chat/completions\" \n",
    "\n",
    "# Look out for deprecations\n",
    "# endpoint = \"https://api.openai.com/v1/engines/gpt-3.5-turbo-instruct/completions\" "
   ]
  },
  {
   "cell_type": "code",
   "execution_count": 14,
   "id": "f336ec62-9a1c-4e2e-b58b-218f4265c05a",
   "metadata": {
    "papermill": {
     "duration": 0.009749,
     "end_time": "2023-10-31T17:51:46.479810",
     "exception": false,
     "start_time": "2023-10-31T17:51:46.470061",
     "status": "completed"
    },
    "tags": []
   },
   "outputs": [],
   "source": [
    "# Set the headers (include your API key for authentication)\n",
    "headers = {\n",
    "    \"Content-Type\": \"application/json\",\n",
    "    \"Authorization\": f\"Bearer {key}\"\n",
    "}"
   ]
  },
  {
   "cell_type": "code",
   "execution_count": 19,
   "id": "9398b689-9c68-4973-8573-3b9e21b55f73",
   "metadata": {
    "papermill": {
     "duration": 0.008725,
     "end_time": "2023-10-31T17:51:46.490955",
     "exception": false,
     "start_time": "2023-10-31T17:51:46.482230",
     "status": "completed"
    },
    "tags": []
   },
   "outputs": [],
   "source": [
    "# Set the parameters\n",
    "\n",
    "max_tokens = 100\n",
    "\n",
    "# Construct the request payload\n",
    "payload = {\n",
    "    \"model\": \"gpt-3.5-turbo\",\n",
    "    \"messages\": [{\"role\": \"user\", \"content\": prompt}],\n",
    "    \"max_tokens\": max_tokens\n",
    "}"
   ]
  },
  {
   "cell_type": "code",
   "execution_count": 20,
   "id": "d4bf619f-e48c-4a19-be61-d785b42cd92d",
   "metadata": {
    "papermill": {
     "duration": 32.044495,
     "end_time": "2023-10-31T17:52:18.538081",
     "exception": false,
     "start_time": "2023-10-31T17:51:46.493586",
     "status": "completed"
    },
    "tags": []
   },
   "outputs": [],
   "source": [
    "# Make the API request\n",
    "response = requests.post(endpoint, headers=headers, json=payload)"
   ]
  },
  {
   "cell_type": "code",
   "execution_count": 21,
   "id": "fcf86b0d-f71b-478e-a8d0-6814be30320d",
   "metadata": {
    "papermill": {
     "duration": 0.010715,
     "end_time": "2023-10-31T17:52:18.552311",
     "exception": false,
     "start_time": "2023-10-31T17:52:18.541596",
     "status": "completed"
    },
    "tags": []
   },
   "outputs": [],
   "source": [
    "# Extract the generated completion from the API response\n",
    "completion_text = response.json()[\"choices\"][0][\"message\"][\"content\"].strip()"
   ]
  },
  {
   "cell_type": "code",
   "execution_count": 22,
   "id": "723c4081-6520-422b-a62e-858361a781d6",
   "metadata": {
    "papermill": {
     "duration": 0.010071,
     "end_time": "2023-10-31T17:52:18.565052",
     "exception": false,
     "start_time": "2023-10-31T17:52:18.554981",
     "status": "completed"
    },
    "tags": []
   },
   "outputs": [
    {
     "name": "stdout",
     "output_type": "stream",
     "text": [
      "Generated completion for prompt 'To succeed in life'\n",
      ", one must have clear goals, determination, and perseverance. It's important to believe in oneself and never give up, even when faced with challenges or setbacks. Building a strong work ethic, seeking continuous improvement, and staying focused on personal growth and development are also key components of success. Additionally, it's important to surround oneself with positive and supportive individuals who encourage and motivate to strive for greatness. By consistently working hard, staying resilient, and maintaining a positive mindset, anyone can achieve their goals and succeed\n"
     ]
    }
   ],
   "source": [
    "# Print the generated completion\n",
    "print(\"Generated completion for prompt '\" + prompt + \"'\\n\" + completion_text)"
   ]
  },
  {
   "cell_type": "code",
   "execution_count": 23,
   "id": "df4e8878-7668-473e-b1f6-4a242ddcdb92",
   "metadata": {
    "papermill": {
     "duration": 0.010011,
     "end_time": "2023-10-31T17:52:18.578113",
     "exception": false,
     "start_time": "2023-10-31T17:52:18.568102",
     "status": "completed"
    },
    "tags": []
   },
   "outputs": [
    {
     "name": "stdout",
     "output_type": "stream",
     "text": [
      "{\n",
      "  \"id\": \"chatcmpl-AlyNeyL7DrsMxmGvtiLUB7cctzscI\",\n",
      "  \"object\": \"chat.completion\",\n",
      "  \"created\": 1735996882,\n",
      "  \"model\": \"gpt-3.5-turbo-0125\",\n",
      "  \"choices\": [\n",
      "    {\n",
      "      \"index\": 0,\n",
      "      \"message\": {\n",
      "        \"role\": \"assistant\",\n",
      "        \"content\": \", one must have clear goals, determination, and perseverance. It's important to believe in oneself and never give up, even when faced with challenges or setbacks. Building a strong work ethic, seeking continuous improvement, and staying focused on personal growth and development are also key components of success. Additionally, it's important to surround oneself with positive and supportive individuals who encourage and motivate to strive for greatness. By consistently working hard, staying resilient, and maintaining a positive mindset, anyone can achieve their goals and succeed\",\n",
      "        \"refusal\": null\n",
      "      },\n",
      "      \"logprobs\": null,\n",
      "      \"finish_reason\": \"length\"\n",
      "    }\n",
      "  ],\n",
      "  \"usage\": {\n",
      "    \"prompt_tokens\": 11,\n",
      "    \"completion_tokens\": 100,\n",
      "    \"total_tokens\": 111,\n",
      "    \"prompt_tokens_details\": {\n",
      "      \"cached_tokens\": 0,\n",
      "      \"audio_tokens\": 0\n",
      "    },\n",
      "    \"completion_tokens_details\": {\n",
      "      \"reasoning_tokens\": 0,\n",
      "      \"audio_tokens\": 0,\n",
      "      \"accepted_prediction_tokens\": 0,\n",
      "      \"rejected_prediction_tokens\": 0\n",
      "    }\n",
      "  },\n",
      "  \"system_fingerprint\": null\n",
      "}\n"
     ]
    }
   ],
   "source": [
    "print(json.dumps(response.json(), indent=2))"
   ]
  },
  {
   "cell_type": "code",
   "execution_count": null,
   "id": "7bbdeaa0-d444-4881-b7e7-e98461d41b4a",
   "metadata": {},
   "outputs": [],
   "source": []
  }
 ],
 "metadata": {
  "kernelspec": {
   "display_name": "Python 3 (ipykernel)",
   "language": "python",
   "name": "python3"
  },
  "language_info": {
   "codemirror_mode": {
    "name": "ipython",
    "version": 3
   },
   "file_extension": ".py",
   "mimetype": "text/x-python",
   "name": "python",
   "nbconvert_exporter": "python",
   "pygments_lexer": "ipython3",
   "version": "3.12.7"
  },
  "papermill": {
   "default_parameters": {},
   "duration": 33.49167,
   "end_time": "2023-10-31T17:52:18.806371",
   "environment_variables": {},
   "exception": null,
   "input_path": "m4/01-api_vs_library/api.ipynb",
   "output_path": "m4/01-api_vs_library/api.ipynb",
   "parameters": {},
   "start_time": "2023-10-31T17:51:45.314701",
   "version": "2.4.0"
  }
 },
 "nbformat": 4,
 "nbformat_minor": 5
}
