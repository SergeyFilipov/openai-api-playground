{
 "cells": [
  {
   "cell_type": "markdown",
   "id": "ba747273-a8c7-4650-b89c-24e1a0f9d8bd",
   "metadata": {
    "papermill": {
     "duration": 0.003112,
     "end_time": "2023-10-31T18:03:16.060229",
     "exception": false,
     "start_time": "2023-10-31T18:03:16.057117",
     "status": "completed"
    },
    "tags": []
   },
   "source": [
    "# Transcription"
   ]
  },
  {
   "cell_type": "code",
   "execution_count": 1,
   "id": "af1d526b-003e-41f3-a730-429c132ad1b0",
   "metadata": {
    "papermill": {
     "duration": 0.067022,
     "end_time": "2023-10-31T18:03:16.130299",
     "exception": false,
     "start_time": "2023-10-31T18:03:16.063277",
     "status": "completed"
    },
    "tags": []
   },
   "outputs": [],
   "source": [
    "import json\n",
    "import os\n",
    "import requests"
   ]
  },
  {
   "cell_type": "code",
   "execution_count": 2,
   "id": "0f076ab6-c89e-48a5-a278-25cfe6f2a01f",
   "metadata": {
    "papermill": {
     "duration": 0.01075,
     "end_time": "2023-10-31T18:03:16.142523",
     "exception": false,
     "start_time": "2023-10-31T18:03:16.131773",
     "status": "completed"
    },
    "tags": []
   },
   "outputs": [],
   "source": [
    "# A recommended way to store the key is in an environment variable. For this demo, I am storing in a file.\n",
    "key_location = '/Users/DGavrilova/OneDrive - CEE Telco Group/Documents/Uni/GenAI/apikey.txt'\n",
    "\n",
    "with open(key_location, 'r') as file:\n",
    "    key = file.readline().strip()"
   ]
  },
  {
   "cell_type": "code",
   "execution_count": 3,
   "id": "496c7026-4e2d-4c2f-9913-136b9cd6e40d",
   "metadata": {
    "papermill": {
     "duration": 0.357712,
     "end_time": "2023-10-31T18:03:16.501719",
     "exception": true,
     "start_time": "2023-10-31T18:03:16.144007",
     "status": "failed"
    },
    "tags": []
   },
   "outputs": [
    {
     "name": "stdout",
     "output_type": "stream",
     "text": [
      "{\n",
      "  \"text\": \"Two roads diverged in a wood, and I, I took the one less traveled by, and that has made all the difference.\"\n",
      "}\n"
     ]
    }
   ],
   "source": [
    "URL = \"https://api.openai.com/v1/audio/transcriptions\"\n",
    "\n",
    "headers = {\n",
    "    'Authorization': f'Bearer {key}'\n",
    "}\n",
    "files = {\n",
    "    \"file\": open(\"C:/Users/DGavrilova/OneDrive - CEE Telco Group/Documents/Uni/GenAI/quote.mp3\", \"rb\")\n",
    "}\n",
    "data = {\n",
    "    \"model\": \"whisper-1\"\n",
    "}\n",
    "\n",
    "response = requests.post(URL, headers=headers, files=files, data=data, timeout=20)\n",
    "result = response.json()\n",
    "\n",
    "if response:\n",
    "    print(json.dumps(result, indent=2))"
   ]
  },
  {
   "cell_type": "code",
   "execution_count": null,
   "id": "b26144ea-bf49-455e-8463-426fcafd81d0",
   "metadata": {},
   "outputs": [],
   "source": []
  }
 ],
 "metadata": {
  "kernelspec": {
   "display_name": "Python 3 (ipykernel)",
   "language": "python",
   "name": "python3"
  },
  "language_info": {
   "codemirror_mode": {
    "name": "ipython",
    "version": 3
   },
   "file_extension": ".py",
   "mimetype": "text/x-python",
   "name": "python",
   "nbconvert_exporter": "python",
   "pygments_lexer": "ipython3",
   "version": "3.12.7"
  },
  "papermill": {
   "default_parameters": {},
   "duration": 1.760578,
   "end_time": "2023-10-31T18:03:16.726258",
   "environment_variables": {},
   "exception": true,
   "input_path": "m4/09-transcription/transcription_api.ipynb",
   "output_path": "m4/09-transcription/transcription_api.ipynb",
   "parameters": {},
   "start_time": "2023-10-31T18:03:14.965680",
   "version": "2.4.0"
  }
 },
 "nbformat": 4,
 "nbformat_minor": 5
}
