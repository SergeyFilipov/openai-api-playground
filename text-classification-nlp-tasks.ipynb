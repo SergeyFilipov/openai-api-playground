{
 "cells": [
  {
   "cell_type": "markdown",
   "id": "01af3848",
   "metadata": {
    "papermill": {
     "duration": 0.004241,
     "end_time": "2023-10-31T17:50:18.248235",
     "exception": false,
     "start_time": "2023-10-31T17:50:18.243994",
     "status": "completed"
    },
    "tags": []
   },
   "source": [
    "# Text Classification\n",
    "Categorizing text into predefined classes"
   ]
  },
  {
   "cell_type": "code",
   "execution_count": 3,
   "id": "4eaaeccf-a9d4-4a39-97dd-43c01b4caa7d",
   "metadata": {
    "papermill": {
     "duration": 0.011522,
     "end_time": "2023-10-31T17:50:18.263283",
     "exception": false,
     "start_time": "2023-10-31T17:50:18.251761",
     "status": "completed"
    },
    "scrolled": true,
    "tags": []
   },
   "outputs": [
    {
     "name": "stdout",
     "output_type": "stream",
     "text": [
      "Requirement already satisfied: openai in c:\\users\\sergey filipov\\anaconda3\\lib\\site-packages (1.60.0)\n",
      "Requirement already satisfied: anyio<5,>=3.5.0 in c:\\users\\sergey filipov\\anaconda3\\lib\\site-packages (from openai) (4.2.0)\n",
      "Requirement already satisfied: distro<2,>=1.7.0 in c:\\users\\sergey filipov\\anaconda3\\lib\\site-packages (from openai) (1.9.0)\n",
      "Requirement already satisfied: httpx<1,>=0.23.0 in c:\\users\\sergey filipov\\anaconda3\\lib\\site-packages (from openai) (0.27.0)\n",
      "Requirement already satisfied: jiter<1,>=0.4.0 in c:\\users\\sergey filipov\\anaconda3\\lib\\site-packages (from openai) (0.8.2)\n",
      "Requirement already satisfied: pydantic<3,>=1.9.0 in c:\\users\\sergey filipov\\anaconda3\\lib\\site-packages (from openai) (2.8.2)\n",
      "Requirement already satisfied: sniffio in c:\\users\\sergey filipov\\anaconda3\\lib\\site-packages (from openai) (1.3.0)\n",
      "Requirement already satisfied: tqdm>4 in c:\\users\\sergey filipov\\anaconda3\\lib\\site-packages (from openai) (4.66.5)\n",
      "Requirement already satisfied: typing-extensions<5,>=4.11 in c:\\users\\sergey filipov\\anaconda3\\lib\\site-packages (from openai) (4.11.0)\n",
      "Requirement already satisfied: idna>=2.8 in c:\\users\\sergey filipov\\anaconda3\\lib\\site-packages (from anyio<5,>=3.5.0->openai) (3.7)\n",
      "Requirement already satisfied: certifi in c:\\users\\sergey filipov\\anaconda3\\lib\\site-packages (from httpx<1,>=0.23.0->openai) (2024.8.30)\n",
      "Requirement already satisfied: httpcore==1.* in c:\\users\\sergey filipov\\anaconda3\\lib\\site-packages (from httpx<1,>=0.23.0->openai) (1.0.2)\n",
      "Requirement already satisfied: h11<0.15,>=0.13 in c:\\users\\sergey filipov\\anaconda3\\lib\\site-packages (from httpcore==1.*->httpx<1,>=0.23.0->openai) (0.14.0)\n",
      "Requirement already satisfied: annotated-types>=0.4.0 in c:\\users\\sergey filipov\\anaconda3\\lib\\site-packages (from pydantic<3,>=1.9.0->openai) (0.6.0)\n",
      "Requirement already satisfied: pydantic-core==2.20.1 in c:\\users\\sergey filipov\\anaconda3\\lib\\site-packages (from pydantic<3,>=1.9.0->openai) (2.20.1)\n",
      "Requirement already satisfied: colorama in c:\\users\\sergey filipov\\anaconda3\\lib\\site-packages (from tqdm>4->openai) (0.4.6)\n",
      "Note: you may need to restart the kernel to use updated packages.\n"
     ]
    }
   ],
   "source": [
    "pip install openai"
   ]
  },
  {
   "cell_type": "code",
   "execution_count": 4,
   "id": "539dfa1e",
   "metadata": {
    "papermill": {
     "duration": 0.146865,
     "end_time": "2023-10-31T17:50:18.412681",
     "exception": false,
     "start_time": "2023-10-31T17:50:18.265816",
     "status": "completed"
    },
    "tags": []
   },
   "outputs": [],
   "source": [
    "import openai\n",
    "import os"
   ]
  },
  {
   "cell_type": "code",
   "execution_count": 7,
   "id": "2e5860d6-57a3-4ec7-9c8c-e5573eb0d3b1",
   "metadata": {
    "papermill": {
     "duration": 0.010883,
     "end_time": "2023-10-31T17:50:18.426667",
     "exception": false,
     "start_time": "2023-10-31T17:50:18.415784",
     "status": "completed"
    },
    "tags": []
   },
   "outputs": [
    {
     "ename": "FileNotFoundError",
     "evalue": "[Errno 2] No such file or directory: 'C:/Users/DGavrilova/OneDrive - CEE Telco Group/Documents/Uni/GenAI/apikey.txt'",
     "output_type": "error",
     "traceback": [
      "\u001b[1;31m---------------------------------------------------------------------------\u001b[0m",
      "\u001b[1;31mFileNotFoundError\u001b[0m                         Traceback (most recent call last)",
      "Cell \u001b[1;32mIn[7], line 4\u001b[0m\n\u001b[0;32m      1\u001b[0m \u001b[38;5;66;03m# A recommended way to store the key is in an environment variable. For this demo, I am storing in a file.\u001b[39;00m\n\u001b[0;32m      2\u001b[0m key_location \u001b[38;5;241m=\u001b[39m \u001b[38;5;124m'\u001b[39m\u001b[38;5;124mC:/Users/DGavrilova/OneDrive - CEE Telco Group/Documents/Uni/GenAI/apikey.txt\u001b[39m\u001b[38;5;124m'\u001b[39m\n\u001b[1;32m----> 4\u001b[0m \u001b[38;5;28;01mwith\u001b[39;00m \u001b[38;5;28mopen\u001b[39m(key_location, \u001b[38;5;124m'\u001b[39m\u001b[38;5;124mr\u001b[39m\u001b[38;5;124m'\u001b[39m) \u001b[38;5;28;01mas\u001b[39;00m file:\n\u001b[0;32m      5\u001b[0m     key \u001b[38;5;241m=\u001b[39m file\u001b[38;5;241m.\u001b[39mreadline()\u001b[38;5;241m.\u001b[39mstrip()\n",
      "File \u001b[1;32m~\\anaconda3\\Lib\\site-packages\\IPython\\core\\interactiveshell.py:324\u001b[0m, in \u001b[0;36m_modified_open\u001b[1;34m(file, *args, **kwargs)\u001b[0m\n\u001b[0;32m    317\u001b[0m \u001b[38;5;28;01mif\u001b[39;00m file \u001b[38;5;129;01min\u001b[39;00m {\u001b[38;5;241m0\u001b[39m, \u001b[38;5;241m1\u001b[39m, \u001b[38;5;241m2\u001b[39m}:\n\u001b[0;32m    318\u001b[0m     \u001b[38;5;28;01mraise\u001b[39;00m \u001b[38;5;167;01mValueError\u001b[39;00m(\n\u001b[0;32m    319\u001b[0m         \u001b[38;5;124mf\u001b[39m\u001b[38;5;124m\"\u001b[39m\u001b[38;5;124mIPython won\u001b[39m\u001b[38;5;124m'\u001b[39m\u001b[38;5;124mt let you open fd=\u001b[39m\u001b[38;5;132;01m{\u001b[39;00mfile\u001b[38;5;132;01m}\u001b[39;00m\u001b[38;5;124m by default \u001b[39m\u001b[38;5;124m\"\u001b[39m\n\u001b[0;32m    320\u001b[0m         \u001b[38;5;124m\"\u001b[39m\u001b[38;5;124mas it is likely to crash IPython. If you know what you are doing, \u001b[39m\u001b[38;5;124m\"\u001b[39m\n\u001b[0;32m    321\u001b[0m         \u001b[38;5;124m\"\u001b[39m\u001b[38;5;124myou can use builtins\u001b[39m\u001b[38;5;124m'\u001b[39m\u001b[38;5;124m open.\u001b[39m\u001b[38;5;124m\"\u001b[39m\n\u001b[0;32m    322\u001b[0m     )\n\u001b[1;32m--> 324\u001b[0m \u001b[38;5;28;01mreturn\u001b[39;00m io_open(file, \u001b[38;5;241m*\u001b[39margs, \u001b[38;5;241m*\u001b[39m\u001b[38;5;241m*\u001b[39mkwargs)\n",
      "\u001b[1;31mFileNotFoundError\u001b[0m: [Errno 2] No such file or directory: 'C:/Users/DGavrilova/OneDrive - CEE Telco Group/Documents/Uni/GenAI/apikey.txt'"
     ]
    }
   ],
   "source": [
    "# A recommended way to store the key is in an environment variable. For this demo, I am storing in a file.\n",
    "key_location = 'C:/Users/DGavrilova/OneDrive - CEE Telco Group/Documents/Uni/GenAI/apikey.txt'\n",
    "\n",
    "with open(key_location, 'r') as file:\n",
    "    key = file.readline().strip()"
   ]
  },
  {
   "cell_type": "code",
   "execution_count": 52,
   "id": "c0ada858-d193-4970-b743-364425114aa6",
   "metadata": {},
   "outputs": [],
   "source": [
    "from openai import OpenAI\n",
    "\n",
    "client = OpenAI(\n",
    "    api_key=key\n",
    ")"
   ]
  },
  {
   "cell_type": "code",
   "execution_count": 46,
   "id": "537e02ff",
   "metadata": {
    "papermill": {
     "duration": 0.010226,
     "end_time": "2023-10-31T17:50:18.450231",
     "exception": false,
     "start_time": "2023-10-31T17:50:18.440005",
     "status": "completed"
    },
    "tags": []
   },
   "outputs": [],
   "source": [
    "def make_openai_request(prompt):\n",
    "    response = client.chat.completions.create(\n",
    "    model=\"gpt-3.5-turbo\",\n",
    "    messages=[{\"role\": \"user\",\"content\": prompt}],\n",
    "    temperature=0.7\n",
    "    )\n",
    "\n",
    "    # Extract the generated labels from the API response\n",
    "    return response.choices[0].message.content"
   ]
  },
  {
   "cell_type": "code",
   "execution_count": 47,
   "id": "50f7896f",
   "metadata": {
    "papermill": {
     "duration": 0.009743,
     "end_time": "2023-10-31T17:50:18.462320",
     "exception": false,
     "start_time": "2023-10-31T17:50:18.452577",
     "status": "completed"
    },
    "tags": []
   },
   "outputs": [],
   "source": [
    "# List of customer feedback messages\n",
    "feedback_messages =  [\n",
    "    \"I absolutely love the product! It's even better than I hoped for.\",\n",
    "    \"The shipping took longer than expected, but the product arrived in perfect condition.\",\n",
    "    \"I'm really pleased with my purchase. It's high-quality and exactly what I wanted.\",\n",
    "    \"I had a horrible experience. The item I received looks nothing like the description.\",\n",
    "    \"The customer support team went above and beyond to help me with my problem.\",\n",
    "    \"The product is fantastic! It exceeded my expectations by a mile.\",\n",
    "    \"The packaging was a bit damaged, but the product inside was flawless.\",\n",
    "    \"I'm happy with my purchase. The quality is top-notch.\",\n",
    "    \"I'm extremely disappointed. The product doesn't match what was advertised.\",\n",
    "    \"Kudos to the customer service team for their prompt assistance in resolving my issue.\"\n",
    "]"
   ]
  },
  {
   "cell_type": "code",
   "execution_count": 48,
   "id": "776053a1",
   "metadata": {
    "papermill": {
     "duration": 0.009027,
     "end_time": "2023-10-31T17:50:18.473651",
     "exception": false,
     "start_time": "2023-10-31T17:50:18.464624",
     "status": "completed"
    },
    "tags": []
   },
   "outputs": [],
   "source": [
    "# Prepare the prompt for sentiment classification\n",
    "prompt = \"\"\"\n",
    "Classify the following customer feedback into positive, neutral, or negative sentiment:\n",
    "\n",
    "\"\"\"\n",
    "for message in feedback_messages:\n",
    "    prompt += f\"- {message}\\n\""
   ]
  },
  {
   "cell_type": "code",
   "execution_count": 49,
   "id": "88a3103d-23ed-4953-9e3d-1153ae9e7c4a",
   "metadata": {
    "papermill": {
     "duration": 15.728781,
     "end_time": "2023-10-31T17:50:34.204770",
     "exception": false,
     "start_time": "2023-10-31T17:50:18.475989",
     "status": "completed"
    },
    "tags": []
   },
   "outputs": [],
   "source": [
    "# Extract the generated classifications from the API response\n",
    "classifications = make_openai_request(prompt)"
   ]
  },
  {
   "cell_type": "code",
   "execution_count": 51,
   "id": "c23267db-90e5-4714-a142-dfbc70594970",
   "metadata": {},
   "outputs": [
    {
     "name": "stdout",
     "output_type": "stream",
     "text": [
      "1. Positive\n",
      "2. Neutral\n",
      "3. Positive\n",
      "4. Negative\n",
      "5. Positive\n",
      "6. Positive\n",
      "7. Neutral\n",
      "8. Positive\n",
      "9. Negative\n",
      "10. Positive\n"
     ]
    }
   ],
   "source": [
    "print(classifications)"
   ]
  },
  {
   "cell_type": "code",
   "execution_count": 50,
   "id": "0be576c8-b2fb-46f2-89e1-1372c32dc8ba",
   "metadata": {
    "collapsed": true,
    "jupyter": {
     "outputs_hidden": true
    },
    "papermill": {
     "duration": 0.011612,
     "end_time": "2023-10-31T17:50:34.220320",
     "exception": false,
     "start_time": "2023-10-31T17:50:34.208708",
     "status": "completed"
    },
    "tags": []
   },
   "outputs": [
    {
     "name": "stdout",
     "output_type": "stream",
     "text": [
      "1: 1\n",
      "2: .\n",
      "3:  \n",
      "4: P\n",
      "5: o\n",
      "6: s\n",
      "7: i\n",
      "8: t\n",
      "9: i\n",
      "10: v\n",
      "11: e\n",
      "12: \n",
      "\n",
      "13: 2\n",
      "14: .\n",
      "15:  \n",
      "16: N\n",
      "17: e\n",
      "18: u\n",
      "19: t\n",
      "20: r\n",
      "21: a\n",
      "22: l\n",
      "23: \n",
      "\n",
      "24: 3\n",
      "25: .\n",
      "26:  \n",
      "27: P\n",
      "28: o\n",
      "29: s\n",
      "30: i\n",
      "31: t\n",
      "32: i\n",
      "33: v\n",
      "34: e\n",
      "35: \n",
      "\n",
      "36: 4\n",
      "37: .\n",
      "38:  \n",
      "39: N\n",
      "40: e\n",
      "41: g\n",
      "42: a\n",
      "43: t\n",
      "44: i\n",
      "45: v\n",
      "46: e\n",
      "47: \n",
      "\n",
      "48: 5\n",
      "49: .\n",
      "50:  \n",
      "51: P\n",
      "52: o\n",
      "53: s\n",
      "54: i\n",
      "55: t\n",
      "56: i\n",
      "57: v\n",
      "58: e\n",
      "59: \n",
      "\n",
      "60: 6\n",
      "61: .\n",
      "62:  \n",
      "63: P\n",
      "64: o\n",
      "65: s\n",
      "66: i\n",
      "67: t\n",
      "68: i\n",
      "69: v\n",
      "70: e\n",
      "71: \n",
      "\n",
      "72: 7\n",
      "73: .\n",
      "74:  \n",
      "75: N\n",
      "76: e\n",
      "77: u\n",
      "78: t\n",
      "79: r\n",
      "80: a\n",
      "81: l\n",
      "82: \n",
      "\n",
      "83: 8\n",
      "84: .\n",
      "85:  \n",
      "86: P\n",
      "87: o\n",
      "88: s\n",
      "89: i\n",
      "90: t\n",
      "91: i\n",
      "92: v\n",
      "93: e\n",
      "94: \n",
      "\n",
      "95: 9\n",
      "96: .\n",
      "97:  \n",
      "98: N\n",
      "99: e\n",
      "100: g\n",
      "101: a\n",
      "102: t\n",
      "103: i\n",
      "104: v\n",
      "105: e\n",
      "106: \n",
      "\n",
      "107: 1\n",
      "108: 0\n",
      "109: .\n",
      "110:  \n",
      "111: P\n",
      "112: o\n",
      "113: s\n",
      "114: i\n",
      "115: t\n",
      "116: i\n",
      "117: v\n",
      "118: e\n"
     ]
    }
   ],
   "source": [
    "# Print the generated classifications\n",
    "#for i, classification in enumerate(classifications):\n",
    "#    print(f\"{i + 1}: {classification}\")"
   ]
  },
  {
   "cell_type": "markdown",
   "id": "20bb6b6e-5469-4e65-a60b-661687975404",
   "metadata": {},
   "source": [
    "# Sentiment Analysis"
   ]
  },
  {
   "cell_type": "code",
   "execution_count": 53,
   "id": "a76e809e-297a-40f3-8ed3-d96c300c9ff7",
   "metadata": {},
   "outputs": [],
   "source": [
    "# List of social media posts\n",
    "posts = [\n",
    "    \"I'm overjoyed! I just received the best news of my life.\",\n",
    "    \"I can't believe how angry I am right now. This situation is infuriating.\",\n",
    "    \"Feeling really sad today. I miss my old friends a lot.\",\n",
    "    \"I'm pleasantly surprised by the unexpected gift I received today!\",\n",
    "    \"I'm so happy for my friend who just got engaged!\",\n",
    "    \"This terrible customer service experience is making me furious!\",\n",
    "    \"Received some bad news today, and I'm feeling quite down.\",\n",
    "    \"Surprised by the amazing talent showcased at the talent show tonight!\",\n",
    "    \"I'm ecstatic about my upcoming vacation. Can't wait!\",\n",
    "    \"I'm furious with myself for making such a careless mistake.\"\n",
    "]"
   ]
  },
  {
   "cell_type": "code",
   "execution_count": 54,
   "id": "699209cd-3e18-4972-a718-f7d918e5fdb4",
   "metadata": {},
   "outputs": [],
   "source": [
    "# Prepare the prompt for sentiment analysis\n",
    "prompt = \"\"\"\n",
    "Analyze the sentiment of the following customer posts and provide a base sentiment label, like happy, angry, etc.\\n\n",
    "\"\"\"\n",
    "for post in posts:\n",
    "    prompt += f\"- \\\"{post}\\\"\\n\""
   ]
  },
  {
   "cell_type": "code",
   "execution_count": 55,
   "id": "8f9c2eca-c7cd-4560-8548-0a37aac52069",
   "metadata": {},
   "outputs": [],
   "source": [
    "# Extract the generated sentiment labels from the API response\n",
    "sentiments = make_openai_request(prompt)"
   ]
  },
  {
   "cell_type": "code",
   "execution_count": 57,
   "id": "14d7cbbd-0f5b-487d-96d2-7db10e88cba7",
   "metadata": {},
   "outputs": [
    {
     "name": "stdout",
     "output_type": "stream",
     "text": [
      "- Happy\n",
      "- Angry\n",
      "- Sad\n",
      "- Pleasantly surprised\n",
      "- Happy\n",
      "- Furious\n",
      "- Sad\n",
      "- Surprised\n",
      "- Happy\n",
      "- Angry\n"
     ]
    }
   ],
   "source": [
    "print(sentiments)"
   ]
  },
  {
   "cell_type": "code",
   "execution_count": 56,
   "id": "d1fec3c7-3cea-44fa-a7ec-3bef41e604b8",
   "metadata": {},
   "outputs": [
    {
     "name": "stdout",
     "output_type": "stream",
     "text": [
      "-\n",
      " \n",
      "H\n",
      "a\n",
      "p\n",
      "p\n",
      "y\n",
      "\n",
      "\n",
      "-\n",
      " \n",
      "A\n",
      "n\n",
      "g\n",
      "r\n",
      "y\n",
      "\n",
      "\n",
      "-\n",
      " \n",
      "S\n",
      "a\n",
      "d\n",
      "\n",
      "\n",
      "-\n",
      " \n",
      "P\n",
      "l\n",
      "e\n",
      "a\n",
      "s\n",
      "a\n",
      "n\n",
      "t\n",
      "l\n",
      "y\n",
      " \n",
      "s\n",
      "u\n",
      "r\n",
      "p\n",
      "r\n",
      "i\n",
      "s\n",
      "e\n",
      "d\n",
      "\n",
      "\n",
      "-\n",
      " \n",
      "H\n",
      "a\n",
      "p\n",
      "p\n",
      "y\n",
      "\n",
      "\n",
      "-\n",
      " \n",
      "F\n",
      "u\n",
      "r\n",
      "i\n",
      "o\n",
      "u\n",
      "s\n",
      "\n",
      "\n",
      "-\n",
      " \n",
      "S\n",
      "a\n",
      "d\n",
      "\n",
      "\n",
      "-\n",
      " \n",
      "S\n",
      "u\n",
      "r\n",
      "p\n",
      "r\n",
      "i\n",
      "s\n",
      "e\n",
      "d\n",
      "\n",
      "\n",
      "-\n",
      " \n",
      "H\n",
      "a\n",
      "p\n",
      "p\n",
      "y\n",
      "\n",
      "\n",
      "-\n",
      " \n",
      "A\n",
      "n\n",
      "g\n",
      "r\n",
      "y\n"
     ]
    }
   ],
   "source": [
    "# Print the generated sentiment labels\n",
    "for i, sentiment in enumerate(sentiments):\n",
    "    print(sentiment)"
   ]
  },
  {
   "cell_type": "markdown",
   "id": "86a84d67-1a51-4b3c-9c2d-27604457d0b8",
   "metadata": {},
   "source": [
    "# Named Entity Recognition"
   ]
  },
  {
   "cell_type": "code",
   "execution_count": 58,
   "id": "79e10f03-2dd6-4848-ae58-3455bf90f79e",
   "metadata": {},
   "outputs": [],
   "source": [
    "# Input text for NER\n",
    "input_text = \"\"\"\n",
    "Denitsa Gavrilova is a teacher at Sofia University. She has been creating courses since October 2013. She lives in Sofia.\n",
    "\"\"\""
   ]
  },
  {
   "cell_type": "code",
   "execution_count": 59,
   "id": "7b112002-112b-495e-806d-fc857781444c",
   "metadata": {},
   "outputs": [
    {
     "name": "stdout",
     "output_type": "stream",
     "text": [
      "- PERSON: Denitsa Gavrilova\n",
      "- ORGANIZATION: Sofia University\n",
      "- DATE: October 2013\n",
      "- LOCATION: Sofia\n"
     ]
    }
   ],
   "source": [
    "prompt= f\"\"\"\n",
    "Perform named entity recognition on the following text:\\n {input_text}\n",
    "\"\"\"\n",
    "\n",
    "# Use the OpenAI API for Named Entity Recognition (NER)\n",
    "print(make_openai_request(prompt))"
   ]
  },
  {
   "cell_type": "markdown",
   "id": "88210185-dca7-4973-8516-61e6fe547202",
   "metadata": {},
   "source": [
    "# Keyword extraction"
   ]
  },
  {
   "cell_type": "code",
   "execution_count": 60,
   "id": "14c9bbf2-1aae-4a94-b942-828ed9ddf394",
   "metadata": {},
   "outputs": [],
   "source": [
    "# Input text for keyword extraction\n",
    "input_text = \"\"\"\n",
    "A few years ago everyone was talking about Big Data. Then the \"Cloud\" came and revolutionized how we work. Next, IOT was a thing. Then Artifical Intelligence, Machine Learning, and Deep Learning came. Now it is all about Large Language Models.\n",
    "\"\"\""
   ]
  },
  {
   "cell_type": "code",
   "execution_count": 61,
   "id": "adf1f4fd-173a-4643-bb25-5aa31950f243",
   "metadata": {},
   "outputs": [],
   "source": [
    "prompt= f\"\"\"\n",
    "Extract keywords from the following text:\\n {input_text}\n",
    "\"\"\""
   ]
  },
  {
   "cell_type": "code",
   "execution_count": 62,
   "id": "213efcfd-afbe-4471-8432-5c383d72112e",
   "metadata": {},
   "outputs": [],
   "source": [
    "keywords = make_openai_request(prompt)"
   ]
  },
  {
   "cell_type": "code",
   "execution_count": 63,
   "id": "405fde3f-ad41-4f2f-9225-75efa51f72ae",
   "metadata": {},
   "outputs": [
    {
     "name": "stdout",
     "output_type": "stream",
     "text": [
      "Keywords: Big Data, Cloud, IOT, Artificial Intelligence, Machine Learning, Deep Learning, Large Language Models.\n"
     ]
    }
   ],
   "source": [
    "# Use the OpenAI API for for keyword extraction\n",
    "print(keywords)"
   ]
  },
  {
   "cell_type": "markdown",
   "id": "18bc7bf3-815c-49c4-9f0e-c5f084cc6076",
   "metadata": {},
   "source": [
    "# Language Translation"
   ]
  },
  {
   "cell_type": "code",
   "execution_count": 75,
   "id": "b75c87c6-e1a6-4b60-9769-b257f28dbf73",
   "metadata": {},
   "outputs": [],
   "source": [
    "input_text = \"\"\"\n",
    "Currently we are having an intensive course, the room is full with students and they have a very tight deadline for submitting their projects.\n",
    "\"\"\""
   ]
  },
  {
   "cell_type": "code",
   "execution_count": 76,
   "id": "6b123247-8243-49c3-a448-49f4537c89e7",
   "metadata": {},
   "outputs": [],
   "source": [
    "prompt=\"Translate the following text from English to Bulgarian:\\n\" + input_text"
   ]
  },
  {
   "cell_type": "code",
   "execution_count": 77,
   "id": "761ef21f-c5fe-425b-a18e-baffd727c909",
   "metadata": {},
   "outputs": [],
   "source": [
    "translation = make_openai_request(prompt)"
   ]
  },
  {
   "cell_type": "code",
   "execution_count": 78,
   "id": "136cb52c-6486-4026-b282-bd4d61cc1ad1",
   "metadata": {},
   "outputs": [
    {
     "name": "stdout",
     "output_type": "stream",
     "text": [
      "В момента провеждаме интензивен курс, стаята е пълна с ученици и те имат много строг срок за представяне на своите проекти.\n"
     ]
    }
   ],
   "source": [
    "print(translation)"
   ]
  },
  {
   "cell_type": "markdown",
   "id": "fd7727d7-16e6-4a6b-9078-3d66d899fad7",
   "metadata": {},
   "source": [
    "# Text Parsing"
   ]
  },
  {
   "cell_type": "code",
   "execution_count": 79,
   "id": "31f18b5e-41a1-4e4e-bdc6-739a49d128b8",
   "metadata": {},
   "outputs": [],
   "source": [
    "input_text = \"\"\"\n",
    "В момента провеждаме интензивен курс, стаята е пълна с ученици и те имат много строг срок за представяне на своите проекти.\n",
    "\"\"\""
   ]
  },
  {
   "cell_type": "code",
   "execution_count": 82,
   "id": "6dc04ea5-68a8-4b53-a344-53001169fa45",
   "metadata": {},
   "outputs": [],
   "source": [
    "prompt=\"Parse the grammatical components of the following sentence in Bulgarian:\\n\" + input_text"
   ]
  },
  {
   "cell_type": "code",
   "execution_count": 83,
   "id": "95197a0b-763d-4907-8770-4d629ff8e79e",
   "metadata": {
    "scrolled": true
   },
   "outputs": [
    {
     "name": "stdout",
     "output_type": "stream",
     "text": [
      "В момента - adverbial phrase\n",
      "провеждаме - verb (1st person plural present tense)\n",
      "интензивен - adjective\n",
      "курс - noun\n",
      "стаята - noun (definite article + noun)\n",
      "е - verb (3rd person singular present tense)\n",
      "пълна - adjective\n",
      "с - preposition\n",
      "ученици - noun (plural)\n",
      "и - conjunction\n",
      "те - pronoun\n",
      "имат - verb (3rd person plural present tense)\n",
      "много - adverb\n",
      "строг - adjective\n",
      "срок - noun\n",
      "за - preposition\n",
      "представяне - noun\n",
      "на - preposition\n",
      "своите - pronoun\n",
      "проекти - noun.\n"
     ]
    }
   ],
   "source": [
    "print(make_openai_request(prompt))"
   ]
  },
  {
   "cell_type": "markdown",
   "id": "f3972ff5-0d03-4249-8c9e-735886f26704",
   "metadata": {},
   "source": [
    "# Paraphrasing"
   ]
  },
  {
   "cell_type": "code",
   "execution_count": 84,
   "id": "7a305a19-58b2-4fe9-a703-7c5ab87154ea",
   "metadata": {},
   "outputs": [],
   "source": [
    "input_text = \"\"\"\n",
    "Currently we are having an intensive course, the room is full with students and they have a very tight deadline for submitting their projects.\n",
    "\"\"\""
   ]
  },
  {
   "cell_type": "code",
   "execution_count": 97,
   "id": "282a33b6-7df4-4d3f-b7db-27447b3df401",
   "metadata": {},
   "outputs": [],
   "source": [
    "prompt=\"Paraphrase the following sentence using rap language while maintaining its core meaning:\\n\" + input_text\n",
    "\n",
    "# Try asking something like \"in a funny way\" and see what happens"
   ]
  },
  {
   "cell_type": "code",
   "execution_count": 98,
   "id": "c1635196-7533-487c-a360-60a6ffd916dc",
   "metadata": {},
   "outputs": [],
   "source": [
    "paraphrase = make_openai_request(prompt)"
   ]
  },
  {
   "cell_type": "code",
   "execution_count": 99,
   "id": "02e424b6-4e26-4dba-b5d9-b5376c46dadc",
   "metadata": {},
   "outputs": [
    {
     "name": "stdout",
     "output_type": "stream",
     "text": [
      "Right now we in a hardcore class, packed with students, on a mad grind to finish their projects on time.\n"
     ]
    }
   ],
   "source": [
    "print(paraphrase)"
   ]
  },
  {
   "cell_type": "code",
   "execution_count": null,
   "id": "36ad98a6-248a-4f05-8e28-393007e9af1a",
   "metadata": {},
   "outputs": [],
   "source": []
  }
 ],
 "metadata": {
  "kernelspec": {
   "display_name": "Python 3 (ipykernel)",
   "language": "python",
   "name": "python3"
  },
  "language_info": {
   "codemirror_mode": {
    "name": "ipython",
    "version": 3
   },
   "file_extension": ".py",
   "mimetype": "text/x-python",
   "name": "python",
   "nbconvert_exporter": "python",
   "pygments_lexer": "ipython3",
   "version": "3.12.7"
  },
  "papermill": {
   "default_parameters": {},
   "duration": 17.02858,
   "end_time": "2023-10-31T17:50:34.444057",
   "environment_variables": {},
   "exception": null,
   "input_path": "m6/02-classification/classification.ipynb",
   "output_path": "m6/02-classification/classification.ipynb",
   "parameters": {},
   "start_time": "2023-10-31T17:50:17.415477",
   "version": "2.4.0"
  }
 },
 "nbformat": 4,
 "nbformat_minor": 5
}
