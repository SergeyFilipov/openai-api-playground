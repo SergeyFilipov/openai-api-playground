{
 "cells": [
  {
   "cell_type": "markdown",
   "id": "ecef18e3",
   "metadata": {
    "papermill": {
     "duration": 0.004362,
     "end_time": "2023-10-31T17:49:42.274114",
     "exception": false,
     "start_time": "2023-10-31T17:49:42.269752",
     "status": "completed"
    },
    "tags": []
   },
   "source": [
    "# Text Summarization\n",
    "Generating concise summaries from longer texts"
   ]
  },
  {
   "cell_type": "code",
   "execution_count": 1,
   "id": "7ab4a896-5c20-4068-b40b-904e62335b39",
   "metadata": {
    "execution": {
     "iopub.execute_input": "2023-10-31T17:49:42.283066Z",
     "iopub.status.busy": "2023-10-31T17:49:42.282364Z",
     "iopub.status.idle": "2023-10-31T17:49:42.287550Z",
     "shell.execute_reply": "2023-10-31T17:49:42.286799Z"
    },
    "papermill": {
     "duration": 0.011565,
     "end_time": "2023-10-31T17:49:42.289755",
     "exception": false,
     "start_time": "2023-10-31T17:49:42.278190",
     "status": "completed"
    },
    "tags": []
   },
   "outputs": [],
   "source": [
    "# !pip install openai"
   ]
  },
  {
   "cell_type": "code",
   "execution_count": 24,
   "id": "32250b17",
   "metadata": {
    "papermill": {
     "duration": 0.137079,
     "end_time": "2023-10-31T17:49:42.429803",
     "exception": false,
     "start_time": "2023-10-31T17:49:42.292724",
     "status": "completed"
    },
    "tags": []
   },
   "outputs": [],
   "source": [
    "import openai\n",
    "import os"
   ]
  },
  {
   "cell_type": "code",
   "execution_count": 25,
   "id": "6bfee36e-4553-4635-ae33-ed61cbfebda8",
   "metadata": {
    "papermill": {
     "duration": 0.009793,
     "end_time": "2023-10-31T17:49:42.442162",
     "exception": false,
     "start_time": "2023-10-31T17:49:42.432369",
     "status": "completed"
    },
    "tags": []
   },
   "outputs": [],
   "source": [
    "# A recommended way to store the key is in an environment variable. \n",
    "key_location = 'C:/Users/DGavrilova/OneDrive - CEE Telco Group/Documents/Uni/GenAI/apikey.txt'\n",
    "\n",
    "with open(key_location, 'r') as file:\n",
    "    key = file.readline().strip()"
   ]
  },
  {
   "cell_type": "code",
   "execution_count": 26,
   "id": "0515d998-4ffb-492d-8d20-0c8d1f02cdb3",
   "metadata": {
    "papermill": {
     "duration": 0.008468,
     "end_time": "2023-10-31T17:49:42.452930",
     "exception": false,
     "start_time": "2023-10-31T17:49:42.444462",
     "status": "completed"
    },
    "tags": []
   },
   "outputs": [],
   "source": [
    "from openai import OpenAI\n",
    "\n",
    "client = OpenAI(\n",
    "    api_key=key\n",
    ")"
   ]
  },
  {
   "cell_type": "code",
   "execution_count": 27,
   "id": "4fb0db76",
   "metadata": {
    "papermill": {
     "duration": 0.009648,
     "end_time": "2023-10-31T17:49:42.464871",
     "exception": false,
     "start_time": "2023-10-31T17:49:42.455223",
     "status": "completed"
    },
    "tags": []
   },
   "outputs": [],
   "source": [
    "def make_openai_request(prompt):\n",
    "    response = client.chat.completions.create(\n",
    "    model=\"gpt-3.5-turbo\",\n",
    "    messages=[{\"role\": \"user\",\"content\": prompt}],\n",
    "    temperature=0.7\n",
    "    )\n",
    "\n",
    "    # Extract the generated labels from the API response\n",
    "    return response.choices[0].message.content"
   ]
  },
  {
   "cell_type": "markdown",
   "id": "3b6edd95-5d74-4616-9ca1-99730e0bad93",
   "metadata": {},
   "source": [
    "# Text summarization"
   ]
  },
  {
   "cell_type": "code",
   "execution_count": 28,
   "id": "119d1191",
   "metadata": {
    "papermill": {
     "duration": 0.010096,
     "end_time": "2023-10-31T17:49:42.477342",
     "exception": false,
     "start_time": "2023-10-31T17:49:42.467246",
     "status": "completed"
    },
    "tags": []
   },
   "outputs": [],
   "source": [
    "# Input text to summarize\n",
    "input_text = \"\"\"\n",
    "Electric vehicles (EVs) have long been hailed as the future of transportation, offering a cleaner and more sustainable alternative to traditional gasoline-powered cars. However, their widespread adoption has been hindered by the limitations of current battery technology, including issues related to energy density, charging time, and lifespan. In recent years, a remarkable scientific breakthrough has emerged, promising to revolutionize the EV industry and accelerate the transition to a greener and more efficient mode of transportation. This breakthrough centers around the development of quantum batteries.\n",
    "\n",
    "The Quantum Leap\n",
    "\n",
    "Quantum batteries are a new frontier in energy storage, leveraging the principles of quantum mechanics to overcome the limitations of conventional lithium-ion batteries. This breakthrough is the result of collaborative efforts from researchers and scientists worldwide, and it holds the potential to reshape the entire automotive industry and beyond.\n",
    "\n",
    "Superior Energy Density: One of the most significant advantages of quantum batteries is their exceptional energy density. Traditional lithium-ion batteries are limited by the physical properties of their materials, which restrict the amount of energy they can store. Quantum batteries, on the other hand, use quantum dots and other nanoscale structures to increase energy density significantly. This translates to longer driving ranges for EVs, reducing the need for frequent recharging and making long-distance travel more accessible.\n",
    "\n",
    "Ultra-Fast Charging: Quantum batteries are designed to charge at unprecedented speeds. Traditional EVs can take anywhere from 30 minutes to several hours to recharge fully, depending on the charger's power and battery capacity. Quantum batteries, however, can be charged in a matter of minutes, making EVs as convenient as refueling a gasoline car. This not only enhances the practicality of EVs but also reduces the strain on the electric grid.\n",
    "\n",
    "Extended Lifespan: Quantum batteries are engineered to be more durable than their lithium-ion counterparts. They exhibit minimal degradation over time, resulting in a significantly longer lifespan. This not only reduces the frequency of battery replacements but also lowers the overall environmental impact of manufacturing and disposing of batteries.\n",
    "\n",
    "Safety Improvements: Quantum batteries are inherently safer than traditional lithium-ion batteries. The risk of thermal runaway, a common concern with lithium-ion batteries, is greatly reduced due to their unique chemical composition and design. This enhances the overall safety of EVs and alleviates concerns regarding fire hazards.\n",
    "\n",
    "Sustainability: Quantum batteries are also more sustainable in terms of resource usage. While lithium-ion batteries require the extraction of rare earth materials, quantum batteries utilize more abundant and environmentally friendly materials, reducing the ecological footprint of battery production.\n",
    "\"\"\""
   ]
  },
  {
   "cell_type": "code",
   "execution_count": 29,
   "id": "e03ff899",
   "metadata": {
    "papermill": {
     "duration": 0.008329,
     "end_time": "2023-10-31T17:49:42.488099",
     "exception": false,
     "start_time": "2023-10-31T17:49:42.479770",
     "status": "completed"
    },
    "tags": []
   },
   "outputs": [],
   "source": [
    "# Prepare the prompt for summarize (try different instructions on the summary length)\n",
    "prompt = f\"\"\"\n",
    "You will be provided with an input text delimited by ### and your task will be to summarize it into a set of bullet points stored in a JSON file.\n",
    "\n",
    "Input text: \n",
    "###\n",
    "{input_text}\n",
    "###\n",
    "\"\"\""
   ]
  },
  {
   "cell_type": "code",
   "execution_count": 30,
   "id": "f3142767-1ed3-47ee-882a-9a3000042cc3",
   "metadata": {
    "papermill": {
     "duration": 13.23008,
     "end_time": "2023-10-31T17:49:55.720454",
     "exception": false,
     "start_time": "2023-10-31T17:49:42.490374",
     "status": "completed"
    },
    "tags": []
   },
   "outputs": [],
   "source": [
    "# Extract the generated summary from the API response\n",
    "summary = make_openai_request(prompt)"
   ]
  },
  {
   "cell_type": "code",
   "execution_count": 31,
   "id": "fd241be6-8bc4-4df1-88b3-2532b2398ea6",
   "metadata": {
    "papermill": {
     "duration": 0.011582,
     "end_time": "2023-10-31T17:49:55.735681",
     "exception": false,
     "start_time": "2023-10-31T17:49:55.724099",
     "status": "completed"
    },
    "tags": []
   },
   "outputs": [
    {
     "name": "stdout",
     "output_type": "stream",
     "text": [
      "Generated summary:\n",
      " {\n",
      "  \"summary\": {\n",
      "    \"Introduction\": \"Electric vehicles (EVs) are seen as a cleaner alternative to gasoline cars but face limitations due to current battery technology.\",\n",
      "    \"Quantum Leap\": \"Quantum batteries, based on quantum mechanics, are a breakthrough that can revolutionize the EV industry.\",\n",
      "    \"Advantages of Quantum Batteries\": {\n",
      "      \"Superior Energy Density\": \"Quantum batteries have higher energy density, leading to longer driving ranges for EVs.\",\n",
      "      \"Ultra-Fast Charging\": \"Quantum batteries can charge in minutes, increasing convenience and reducing strain on the electric grid.\",\n",
      "      \"Extended Lifespan\": \"Quantum batteries are more durable and have a longer lifespan, reducing the need for frequent replacements.\",\n",
      "      \"Safety Improvements\": \"Quantum batteries are safer than lithium-ion batteries, reducing the risk of thermal runaway.\",\n",
      "      \"Sustainability\": \"Quantum batteries use more abundant and environmentally friendly materials, making them more sustainable.\"\n",
      "    }\n",
      "  }\n",
      "}\n"
     ]
    }
   ],
   "source": [
    "# Print the generated summary\n",
    "print(\"Generated summary:\\n\", summary)"
   ]
  },
  {
   "cell_type": "code",
   "execution_count": 33,
   "id": "5f92415e-8ec9-4beb-ab09-c5f3725d0878",
   "metadata": {
    "papermill": {
     "duration": 0.010728,
     "end_time": "2023-10-31T17:49:55.749295",
     "exception": false,
     "start_time": "2023-10-31T17:49:55.738567",
     "status": "completed"
    },
    "tags": []
   },
   "outputs": [
    {
     "name": "stdout",
     "output_type": "stream",
     "text": [
      "Length of input text: 2957\n",
      "Length of summary: 1010\n"
     ]
    }
   ],
   "source": [
    "print(\"Length of input text: \" + str(len(input_text)))\n",
    "print(\"Length of summary: \" + str(len(summary)))"
   ]
  },
  {
   "cell_type": "code",
   "execution_count": null,
   "id": "df423a69-3c70-4d2a-8a6b-e10d8c2df02b",
   "metadata": {},
   "outputs": [],
   "source": []
  }
 ],
 "metadata": {
  "kernelspec": {
   "display_name": "Python 3 (ipykernel)",
   "language": "python",
   "name": "python3"
  },
  "language_info": {
   "codemirror_mode": {
    "name": "ipython",
    "version": 3
   },
   "file_extension": ".py",
   "mimetype": "text/x-python",
   "name": "python",
   "nbconvert_exporter": "python",
   "pygments_lexer": "ipython3",
   "version": "3.12.7"
  },
  "papermill": {
   "default_parameters": {},
   "duration": 14.825389,
   "end_time": "2023-10-31T17:49:55.972185",
   "environment_variables": {},
   "exception": null,
   "input_path": "m6/01-summarization/text-summarization.ipynb",
   "output_path": "m6/01-summarization/text-summarization.ipynb",
   "parameters": {},
   "start_time": "2023-10-31T17:49:41.146796",
   "version": "2.4.0"
  }
 },
 "nbformat": 4,
 "nbformat_minor": 5
}
