{
 "cells": [
  {
   "cell_type": "markdown",
   "id": "dc44fc75-484a-4dd2-963c-73a9fecc7a65",
   "metadata": {
    "papermill": {
     "duration": 0.003155,
     "end_time": "2023-10-31T18:02:42.249369",
     "exception": false,
     "start_time": "2023-10-31T18:02:42.246214",
     "status": "completed"
    },
    "tags": []
   },
   "source": [
    "# Translation Using the API"
   ]
  },
  {
   "cell_type": "code",
   "execution_count": 1,
   "id": "997c2c60-88df-45fb-a852-27ed6c84bfab",
   "metadata": {
    "papermill": {
     "duration": 0.068427,
     "end_time": "2023-10-31T18:02:42.320915",
     "exception": false,
     "start_time": "2023-10-31T18:02:42.252488",
     "status": "completed"
    },
    "tags": []
   },
   "outputs": [],
   "source": [
    "import json\n",
    "import os\n",
    "import requests"
   ]
  },
  {
   "cell_type": "code",
   "execution_count": 2,
   "id": "2f3600c1-7402-4a68-b2b7-dedf468868d5",
   "metadata": {
    "papermill": {
     "duration": 0.009631,
     "end_time": "2023-10-31T18:02:42.332006",
     "exception": false,
     "start_time": "2023-10-31T18:02:42.322375",
     "status": "completed"
    },
    "tags": []
   },
   "outputs": [],
   "source": [
    "# A recommended way to store the key is in an environment variable. For this demo, I am storing in a file.\n",
    "key_location = '/Users/DGavrilova/OneDrive - CEE Telco Group/Documents/Uni/GenAI/apikey.txt'\n",
    "\n",
    "with open(key_location, 'r') as file:\n",
    "    key = file.readline().strip()"
   ]
  },
  {
   "cell_type": "code",
   "execution_count": 3,
   "id": "160d1340-d145-459a-a65b-da7c08a82728",
   "metadata": {
    "papermill": {
     "duration": 0.354437,
     "end_time": "2023-10-31T18:02:42.688027",
     "exception": true,
     "start_time": "2023-10-31T18:02:42.333590",
     "status": "failed"
    },
    "tags": []
   },
   "outputs": [
    {
     "name": "stdout",
     "output_type": "stream",
     "text": [
      "{\n",
      "  \"text\": \"We rarely think about what we have, but always think about what we are missing.\"\n",
      "}\n"
     ]
    }
   ],
   "source": [
    "URL = \"https://api.openai.com/v1/audio/translations\"\n",
    "\n",
    "headers = {\n",
    "    'Authorization': f'Bearer {key}'\n",
    "}\n",
    "files = {\n",
    "    \"file\": open(\"C:/Users/DGavrilova/OneDrive - CEE Telco Group/Documents/Uni/GenAI/german_quote.mp3\", \"rb\")\n",
    "}\n",
    "data = {\n",
    "    \"model\": \"whisper-1\"\n",
    "}\n",
    "\n",
    "response = requests.post(URL, headers=headers, files=files, data=data, timeout=20)\n",
    "result = response.json()\n",
    "\n",
    "if response:\n",
    "    print(json.dumps(result, indent=2))"
   ]
  },
  {
   "cell_type": "code",
   "execution_count": null,
   "id": "39e5e792-6de1-4b82-b662-7877dba49667",
   "metadata": {},
   "outputs": [],
   "source": []
  }
 ],
 "metadata": {
  "kernelspec": {
   "display_name": "Python 3 (ipykernel)",
   "language": "python",
   "name": "python3"
  },
  "language_info": {
   "codemirror_mode": {
    "name": "ipython",
    "version": 3
   },
   "file_extension": ".py",
   "mimetype": "text/x-python",
   "name": "python",
   "nbconvert_exporter": "python",
   "pygments_lexer": "ipython3",
   "version": "3.12.7"
  },
  "papermill": {
   "default_parameters": {},
   "duration": 1.500631,
   "end_time": "2023-10-31T18:02:42.914915",
   "environment_variables": {},
   "exception": true,
   "input_path": "m4/10-translation/translation_api.ipynb",
   "output_path": "m4/10-translation/translation_api.ipynb",
   "parameters": {},
   "start_time": "2023-10-31T18:02:41.414284",
   "version": "2.4.0"
  }
 },
 "nbformat": 4,
 "nbformat_minor": 5
}
